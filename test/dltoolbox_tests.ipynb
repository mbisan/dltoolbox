{
  "cells": [
    {
      "cell_type": "code",
      "execution_count": 1,
      "metadata": {
        "id": "xQgUaHJ4PZyO"
      },
      "outputs": [],
      "source": [
        "import numpy as np\n",
        "\n",
        "import dltoolbox as dl\n",
        "\n",
        "from keras.datasets import mnist\n",
        "import matplotlib.pyplot as plt\n",
        "from time import time"
      ]
    },
    {
      "cell_type": "code",
      "execution_count": 5,
      "metadata": {
        "id": "sbIdUpbZaxav"
      },
      "outputs": [],
      "source": [
        "from load_database import load_MNIST\n",
        "\n",
        "(X_train, Y_train), (X_test, Y_test) = load_MNIST()"
      ]
    },
    {
      "cell_type": "code",
      "execution_count": 7,
      "metadata": {
        "id": "0euqtsfPPeC2"
      },
      "outputs": [],
      "source": [
        "model0 = dl.Sequential()\n",
        "\n",
        "model0.add(dl.flatten())\n",
        "model0.add(dl.denseLayer(784, 784))\n",
        "model0.add(dl.activationLayer(dl.relu))\n",
        "\n",
        "model0.add(dl.denseLayer(784, 10))\n",
        "model0.add(dl.softMaxLayer2())"
      ]
    },
    {
      "cell_type": "code",
      "execution_count": 8,
      "metadata": {
        "id": "53V0fhyH_yca"
      },
      "outputs": [],
      "source": [
        "model1 = dl.Sequential()\n",
        "\n",
        "model1.add( dl.conv2DLayer(1, 32, filter_size=(5,5)) )\n",
        "model1.add( dl.activationLayer(dl.relu) )\n",
        "model1.add( dl.maxPool2D(window_size=(2,2)) )\n",
        "\n",
        "model1.add( dl.dropoutLayer(0.2) )\n",
        "\n",
        "model1.add( dl.flatten() )\n",
        "\n",
        "model1.add( dl.denseLayer(4608, 128) )\n",
        "model1.add( dl.activationLayer(dl.relu) )\n",
        "\n",
        "model1.add( dl.denseLayer(128, 10) )\n",
        "model1.add( dl.softMaxLayer2() )"
      ]
    },
    {
      "cell_type": "code",
      "execution_count": 9,
      "metadata": {
        "id": "Jswjg_IWAfSE"
      },
      "outputs": [],
      "source": [
        "model2 = dl.Sequential()\n",
        "\n",
        "model2.add( dl.conv2DLayer(1, 32, filter_size=(5,5)) )\n",
        "model2.add( dl.activationLayer(dl.relu) )\n",
        "model2.add( dl.maxPool2D(window_size=(2,2)) )\n",
        "\n",
        "model2.add( dl.flatten() )\n",
        "\n",
        "model2.add( dl.denseLayer(4608, 128) )\n",
        "model2.add( dl.activationLayer(dl.relu) )\n",
        "\n",
        "model2.add( dl.denseLayer(128, 10) )\n",
        "model2.add( dl.softMaxLayer2() )"
      ]
    },
    {
      "cell_type": "code",
      "execution_count": 87,
      "metadata": {
        "id": "CG2X3WOuAoEA"
      },
      "outputs": [],
      "source": [
        "model3 = dl.Sequential()\n",
        "\n",
        "model3.add( dl.conv2DLayer(1, 32, filter_size=(5,5)) )\n",
        "model3.add( dl.activationLayer(dl.relu) )\n",
        "model3.add( dl.maxPool2D(window_size=(2,2)) )\n",
        "\n",
        "model3.add( dl.conv2DLayer(32, 64, filter_size=(5,5)) )\n",
        "model3.add( dl.activationLayer(dl.relu) )\n",
        "model3.add( dl.maxPool2D(window_size=(2,2)) )\n",
        "\n",
        "model3.add( dl.flatten() )\n",
        "\n",
        "model3.add( dl.denseLayer(1024, 128) )\n",
        "model3.add( dl.activationLayer(dl.relu) )\n",
        "\n",
        "model3.add( dl.denseLayer(128, 10) )\n",
        "model3.add( dl.softMaxLayer2() )"
      ]
    },
    {
      "cell_type": "code",
      "execution_count": 88,
      "metadata": {
        "id": "uIS8o3KSA5Qe"
      },
      "outputs": [],
      "source": [
        "model4 = dl.Sequential()\n",
        "\n",
        "model4.add( dl.conv2DLayer(1, 32, filter_size=(5,5)) )\n",
        "model4.add( dl.activationLayer(dl.relu) )\n",
        "model4.add( dl.maxPool2D(window_size=(2,2)) )\n",
        "\n",
        "model4.add( dl.conv2DLayer(32, 64, filter_size=(5,5)) )\n",
        "model4.add( dl.activationLayer(dl.relu) )\n",
        "model4.add( dl.maxPool2D(window_size=(2,2)) )\n",
        "\n",
        "model4.add( dl.dropoutLayer(0.2) )\n",
        "model4.add( dl.flatten() )\n",
        "\n",
        "model4.add( dl.denseLayer(1024, 128) )\n",
        "model4.add( dl.activationLayer(dl.relu) )\n",
        "\n",
        "model4.add( dl.denseLayer(128, 10) )\n",
        "model4.add( dl.softMaxLayer2() )"
      ]
    },
    {
      "cell_type": "code",
      "execution_count": 46,
      "metadata": {
        "id": "TSFAS83WBCkH"
      },
      "outputs": [],
      "source": [
        "model5 = dl.Sequential()\n",
        "\n",
        "model5.add( dl.conv2DLayer(1, 32, filter_size=(5,5)) )\n",
        "model5.add( dl.activationLayer(dl.relu) )\n",
        "model5.add( dl.maxPool2D(window_size=(2,2)) )\n",
        "\n",
        "model5.add( dl.conv2DLayer(32, 64, filter_size=(5,5)) )\n",
        "model5.add( dl.activationLayer(dl.relu) )\n",
        "model5.add( dl.maxPool2D(window_size=(2,2)) )\n",
        "\n",
        "model5.add( dl.flatten() )\n",
        "\n",
        "model5.add( dl.denseLayer(1024, 10) )\n",
        "model5.add( dl.softMaxLayer2() )"
      ]
    },
    {
      "cell_type": "code",
      "execution_count": 84,
      "metadata": {},
      "outputs": [],
      "source": [
        "model6 = dl.Sequential()\n",
        "\n",
        "model6.add( dl.conv2DLayer(1, 32, filter_size=(5,5), regularizer=dl.L2regularizer(1e-3)) )\n",
        "model6.add( dl.activationLayer(dl.relu) )\n",
        "model6.add( dl.maxPool2D(window_size=(2,2)) )\n",
        "\n",
        "model6.add( dl.conv2DLayer(32, 64, filter_size=(5,5), regularizer=dl.L2regularizer(1e-3)) )\n",
        "model6.add( dl.activationLayer(dl.relu) )\n",
        "model6.add( dl.maxPool2D(window_size=(2,2)) )\n",
        "\n",
        "model6.add( dl.flatten() )\n",
        "\n",
        "model6.add( dl.denseLayer(1024, 10, regularizer=dl.L2regularizer(1e-3)) )\n",
        "model6.add( dl.softMaxLayer2() )"
      ]
    },
    {
      "cell_type": "code",
      "execution_count": null,
      "metadata": {
        "colab": {
          "base_uri": "https://localhost:8080/"
        },
        "id": "ss0rJhJf_sf6",
        "outputId": "47ada8c1-f1f7-4bc7-9672-cc018895719f"
      },
      "outputs": [],
      "source": [
        "np.random.seed(31415)\n",
        "model0.initializeRandomWeights(np.random.randn)\n",
        "\n",
        "hp = dl.HyperParameters(lr=0.001, batch_size=50, beta1=0.9, beta2=0.999, epsilon=1e-07)\n",
        "optimizer0 = dl.Adams(model0, dl.NLLHcost2, hp)\n",
        "\n",
        "cost0_0, cost0_0_t, acc0_0, acc0_0_t = optimizer0.fit(X_train, Y_train, 15, show_progress=1, validation_data=(X_test, Y_test), compute_costs=300, compute_test_costs=300)"
      ]
    },
    {
      "cell_type": "code",
      "execution_count": null,
      "metadata": {
        "colab": {
          "base_uri": "https://localhost:8080/"
        },
        "id": "iveIDNHaBsLB",
        "outputId": "7dd5ec68-584a-489b-dc39-cc262de7a251"
      },
      "outputs": [],
      "source": [
        "np.random.seed(31415)\n",
        "model0.initializeRandomWeights(np.random.randn)\n",
        "\n",
        "hp = dl.HyperParameters(lr=0.001, batch_size=100, beta1=0.9, beta2=0.999, epsilon=1e-07)\n",
        "optimizer0 = dl.Adams(model0, dl.NLLHcost2, hp)\n",
        "\n",
        "cost0_1, cost0_1_t, acc0_1, acc0_1_t = optimizer0.fit(X_train, Y_train, 15, show_progress=1, validation_data=(X_test, Y_test), compute_costs=150, compute_test_costs=150)"
      ]
    },
    {
      "cell_type": "code",
      "execution_count": null,
      "metadata": {
        "colab": {
          "base_uri": "https://localhost:8080/"
        },
        "id": "qKFFkGuACbte",
        "outputId": "431740e3-ae9a-43cc-d037-5f974a85c591"
      },
      "outputs": [],
      "source": [
        "np.random.seed(31415)\n",
        "model0.initializeRandomWeights(np.random.randn)\n",
        "\n",
        "hp = dl.HyperParameters(lr=0.005, batch_size=50, beta1=0.9, beta2=0.999, epsilon=1e-07)\n",
        "optimizer0 = dl.Adams(model0, dl.NLLHcost2, hp)\n",
        "\n",
        "cost0_2, cost0_2_t, acc0_2, acc0_2_t = optimizer0.fit(X_train, Y_train, 15, show_progress=1, validation_data=(X_test, Y_test), compute_costs=300, compute_test_costs=300)"
      ]
    },
    {
      "cell_type": "code",
      "execution_count": null,
      "metadata": {
        "colab": {
          "base_uri": "https://localhost:8080/"
        },
        "id": "6r82eNfRC1Ix",
        "outputId": "5fc5455f-8e6e-4f6c-d6b5-c432f2d23798"
      },
      "outputs": [],
      "source": [
        "np.random.seed(31415)\n",
        "model0.initializeRandomWeights(np.random.randn)\n",
        "\n",
        "hp = dl.HyperParameters(lr=0.005, batch_size=100, beta1=0.9, beta2=0.999, epsilon=1e-07)\n",
        "optimizer0 = dl.Adams(model0, dl.NLLHcost2, hp)\n",
        "\n",
        "cost0_3, cost0_3_t, acc0_3, acc0_3_t = optimizer0.fit(X_train, Y_train, 15, show_progress=1, validation_data=(X_test, Y_test), compute_costs=150, compute_test_costs=150)"
      ]
    },
    {
      "cell_type": "code",
      "execution_count": null,
      "metadata": {
        "colab": {
          "base_uri": "https://localhost:8080/"
        },
        "id": "hd6s_CLbF4P_",
        "outputId": "4a28c87f-d428-460a-b2bb-d7d1947a3287"
      },
      "outputs": [],
      "source": [
        "np.random.seed(31415)\n",
        "model0.initializeRandomWeights(np.random.randn)\n",
        "\n",
        "hp = dl.HyperParameters(lr=0.001, batch_size=50, beta1=0.9, beta2=0.999, epsilon=1e-07)\n",
        "optimizer0 = dl.GDoptimizer(model0, dl.NLLHcost2, hp)\n",
        "\n",
        "cost0_4, cost0_4_t, acc0_4, acc0_4_t = optimizer0.fit(X_train, Y_train, 15, show_progress=1, validation_data=(X_test, Y_test), compute_costs=300, compute_test_costs=300)"
      ]
    },
    {
      "cell_type": "code",
      "execution_count": null,
      "metadata": {
        "colab": {
          "base_uri": "https://localhost:8080/"
        },
        "id": "1-UW2OUnJmWc",
        "outputId": "bc7e5487-95d1-4ec3-bbe6-86f5520baf33"
      },
      "outputs": [],
      "source": [
        "np.random.seed(31415)\n",
        "model1.initializeRandomWeights(np.random.randn)\n",
        "\n",
        "hp = dl.HyperParameters(lr=0.001, batch_size=50, beta1=0.9, beta2=0.999, epsilon=1e-07)\n",
        "optimizer0 = dl.Adams(model1, dl.NLLHcost2, hp)\n",
        "\n",
        "cost1_0, cost1_0_t, acc1_0, acc1_0_t = optimizer0.fit(X_train, Y_train, 15, show_progress=1, validation_data=(X_test, Y_test), compute_costs=300, compute_test_costs=300)"
      ]
    },
    {
      "cell_type": "code",
      "execution_count": null,
      "metadata": {
        "colab": {
          "base_uri": "https://localhost:8080/"
        },
        "id": "bsrxyiSkJ1QE",
        "outputId": "ffe8a81c-5a6a-4048-baa1-f44dc904c3d1"
      },
      "outputs": [],
      "source": [
        "np.random.seed(31415)\n",
        "model1.initializeRandomWeights(np.random.randn)\n",
        "\n",
        "hp = dl.HyperParameters(lr=0.001, batch_size=100, beta1=0.9, beta2=0.999, epsilon=1e-07)\n",
        "optimizer0 = dl.Adams(model1, dl.NLLHcost2, hp)\n",
        "\n",
        "cost1_1, cost1_1_t, acc1_1, acc1_1_t = optimizer0.fit(X_train, Y_train, 15, show_progress=1, validation_data=(X_test, Y_test), compute_costs=150, compute_test_costs=150)"
      ]
    },
    {
      "cell_type": "code",
      "execution_count": null,
      "metadata": {
        "colab": {
          "background_save": true,
          "base_uri": "https://localhost:8080/"
        },
        "id": "JyaVEecfJ-VB",
        "outputId": "0e4db007-83e4-4b2d-ca4e-82a4bf47f134"
      },
      "outputs": [],
      "source": [
        "np.random.seed(31415)\n",
        "model2.initializeRandomWeights(np.random.randn)\n",
        "\n",
        "hp = dl.HyperParameters(lr=0.001, batch_size=50, beta1=0.9, beta2=0.999, epsilon=1e-07)\n",
        "optimizer0 = dl.Adams(model2, dl.NLLHcost2, hp)\n",
        "\n",
        "cost2_0, cost2_0_t, acc2_0, acc2_0_t = optimizer0.fit(X_train, Y_train, 15, show_progress=1, validation_data=(X_test, Y_test), compute_costs=300, compute_test_costs=300)"
      ]
    },
    {
      "cell_type": "code",
      "execution_count": null,
      "metadata": {},
      "outputs": [],
      "source": [
        "np.random.seed(31415)\n",
        "model3.initializeRandomWeights(np.random.randn)\n",
        "\n",
        "hp = dl.HyperParameters(lr=0.001, batch_size=50, beta1=0.9, beta2=0.999, epsilon=1e-07)\n",
        "optimizer0 = dl.Adams(model3, dl.NLLHcost2, hp)\n",
        "\n",
        "cost3_3, cost3_3_t, acc3_3, acc3_3_t = optimizer0.fit(X_train, Y_train, 15, show_progress=1, validation_data=(X_test, Y_test), compute_costs=300, compute_test_costs=300)"
      ]
    },
    {
      "cell_type": "code",
      "execution_count": null,
      "metadata": {
        "id": "nGKPUkwwKOgS"
      },
      "outputs": [],
      "source": [
        "np.random.seed(31415)\n",
        "model3.initializeRandomWeights(np.random.randn)\n",
        "\n",
        "hp = dl.HyperParameters(lr=0.0001, batch_size=50, beta1=0.9, beta2=0.999, epsilon=1e-07)\n",
        "optimizer0 = dl.Adams(model3, dl.NLLHcost2, hp)\n",
        "\n",
        "cost3_0, cost3_0_t, acc3_0, acc3_0_t = optimizer0.fit(X_train, Y_train, 15, show_progress=1, validation_data=(X_test, Y_test), compute_costs=300, compute_test_costs=300)"
      ]
    },
    {
      "cell_type": "code",
      "execution_count": null,
      "metadata": {
        "id": "MSU8G_GwKXoq"
      },
      "outputs": [],
      "source": [
        "np.random.seed(31415)\n",
        "model4.initializeRandomWeights(np.random.randn)\n",
        "\n",
        "hp = dl.HyperParameters(lr=0.001, batch_size=50, beta1=0.9, beta2=0.999, epsilon=1e-07)\n",
        "optimizer0 = dl.Adams(model4, dl.NLLHcost2, hp)\n",
        "\n",
        "cost4_0, cost4_0_t, acc4_0, acc4_0_t = optimizer0.fit(X_train, Y_train, 15, show_progress=1, validation_data=(X_test, Y_test), compute_costs=300, compute_test_costs=300)"
      ]
    },
    {
      "cell_type": "code",
      "execution_count": null,
      "metadata": {},
      "outputs": [],
      "source": [
        "np.random.seed(31415)\n",
        "model3.initializeRandomWeights(np.random.randn)\n",
        "\n",
        "hp = dl.HyperParameters(lr=0.001, batch_size=100, beta1=0.9, beta2=0.999, epsilon=1e-07)\n",
        "optimizer0 = dl.Adams(model3, dl.NLLHcost2, hp)\n",
        "\n",
        "cost3_1, cost3_1_t, acc3_1, acc3_1_t = optimizer0.fit(X_train, Y_train, 15, show_progress=1, validation_data=(X_test, Y_test), compute_costs=150, compute_test_costs=150)"
      ]
    },
    {
      "cell_type": "code",
      "execution_count": null,
      "metadata": {},
      "outputs": [],
      "source": [
        "np.random.seed(31415)\n",
        "model3.initializeRandomWeights(np.random.randn)\n",
        "\n",
        "hp = dl.HyperParameters(lr=0.00001, batch_size=50, beta1=0.9, beta2=0.999, epsilon=1e-07)\n",
        "optimizer0 = dl.GDoptimizer(model3, dl.NLLHcost2, hp)\n",
        "\n",
        "cost3_2, cost3_2_t, acc3_2, acc3_2_t = optimizer0.fit(X_train, Y_train, 15, show_progress=1, validation_data=(X_test, Y_test), compute_costs=300, compute_test_costs=300)"
      ]
    },
    {
      "cell_type": "code",
      "execution_count": null,
      "metadata": {
        "id": "I0Z0IZNEKdwp"
      },
      "outputs": [],
      "source": [
        "np.random.seed(31415)\n",
        "model5.initializeRandomWeights(np.random.randn)\n",
        "\n",
        "hp = dl.HyperParameters(lr=0.0001, batch_size=100, beta1=0.9, beta2=0.999, epsilon=1e-07)\n",
        "optimizer0 = dl.Adams(model5, dl.NLLHcost2, hp)\n",
        "\n",
        "cost5_0, cost5_0_t, acc5_0, acc5_0_t = optimizer0.fit(X_train, Y_train, 15, show_progress=1, validation_data=(X_test, Y_test), compute_costs=150, compute_test_costs=150)"
      ]
    },
    {
      "cell_type": "code",
      "execution_count": null,
      "metadata": {},
      "outputs": [],
      "source": [
        "np.random.seed(31415)\n",
        "model5.initializeRandomWeights(np.random.randn)\n",
        "\n",
        "hp = dl.HyperParameters(lr=0.001, batch_size=50, beta1=0.9, beta2=0.999, epsilon=1e-07)\n",
        "optimizer0 = dl.Adams(model5, dl.NLLHcost2, hp)\n",
        "\n",
        "cost5_1, cost5_1_t, acc5_1, acc5_1_t = optimizer0.fit(X_train, Y_train, 15, show_progress=1, validation_data=(X_test, Y_test), compute_costs=300, compute_test_costs=300)"
      ]
    },
    {
      "cell_type": "code",
      "execution_count": null,
      "metadata": {},
      "outputs": [],
      "source": [
        "np.random.seed(31415)\n",
        "model6.initializeRandomWeights(np.random.randn)\n",
        "\n",
        "hp = dl.HyperParameters(lr=0.001, batch_size=50, beta1=0.9, beta2=0.999, epsilon=1e-07)\n",
        "optimizer0 = dl.Adams(model6, dl.NLLHcost2, hp)\n",
        "\n",
        "cost6_0, cost6_0_t, acc6_0, acc6_0_t = optimizer0.fit(X_train, Y_train, 15, show_progress=1, validation_data=(X_test, Y_test), compute_costs=300, compute_test_costs=300)"
      ]
    },
    {
      "cell_type": "code",
      "execution_count": 50,
      "metadata": {},
      "outputs": [],
      "source": [
        "import matplotlib.pyplot as plt"
      ]
    },
    {
      "cell_type": "code",
      "execution_count": 1,
      "metadata": {},
      "outputs": [],
      "source": [
        "def plot_cost_acc(costs, costs_t, accur, accur_t):\n",
        "    print(costs[-1], costs_t[-1], accur[-1], accur_t[-1])\n",
        "\n",
        "    plt.rcParams.update({'font.size': 12})\n",
        "    plt.rcParams['figure.figsize'] = [10, 5]\n",
        "    plt.rcParams['figure.dpi'] = 300\n",
        "\n",
        "    fig, axs = plt.subplots(1,2)\n",
        "\n",
        "    axs[0].set_ylim([0,50])\n",
        "    axs[0].set(ylabel = \"Kostua\")\n",
        "    axs[0].plot(costs)\n",
        "    axs[0].plot(costs_t)\n",
        "    axs[1].set_ylim([0,1])\n",
        "    axs[1].set(ylabel = \"Zehaztasuna\" )\n",
        "    axs[1].plot(accur)\n",
        "    axs[1].plot(accur_t)\n",
        "\n",
        "    axs[0].legend([\"Entrenamendua\", \"Proba\"])\n",
        "    axs[1].legend([\"Entrenamendua\", \"Proba\"])\n",
        "\n",
        "    plt.show()"
      ]
    },
    {
      "cell_type": "code",
      "execution_count": null,
      "metadata": {},
      "outputs": [],
      "source": [
        "plot_cost_acc(cost0_0, cost0_0_t, acc0_0, acc0_0_t)"
      ]
    },
    {
      "cell_type": "code",
      "execution_count": null,
      "metadata": {},
      "outputs": [],
      "source": [
        "plot_cost_acc(cost0_1, cost0_1_t, acc0_1, acc0_1_t)"
      ]
    },
    {
      "cell_type": "code",
      "execution_count": null,
      "metadata": {},
      "outputs": [],
      "source": [
        "plot_cost_acc(cost0_2, cost0_2_t, acc0_2, acc0_2_t)"
      ]
    },
    {
      "cell_type": "code",
      "execution_count": null,
      "metadata": {},
      "outputs": [],
      "source": [
        "plot_cost_acc(cost0_3, cost0_3_t, acc0_3, acc0_3_t)"
      ]
    },
    {
      "cell_type": "code",
      "execution_count": null,
      "metadata": {},
      "outputs": [],
      "source": [
        "plot_cost_acc(cost0_4, cost0_4_t, acc0_4, acc0_4_t)"
      ]
    },
    {
      "cell_type": "code",
      "execution_count": null,
      "metadata": {},
      "outputs": [],
      "source": [
        "plot_cost_acc(cost1_0, cost1_0_t, acc1_0, acc1_0_t)"
      ]
    },
    {
      "cell_type": "code",
      "execution_count": null,
      "metadata": {},
      "outputs": [],
      "source": [
        "plot_cost_acc(cost1_1, cost1_1_t, acc1_1, acc1_1_t)"
      ]
    },
    {
      "cell_type": "code",
      "execution_count": null,
      "metadata": {},
      "outputs": [],
      "source": [
        "plot_cost_acc(cost2_0, cost2_0_t, acc2_0, acc2_0_t)"
      ]
    },
    {
      "cell_type": "code",
      "execution_count": null,
      "metadata": {},
      "outputs": [],
      "source": [
        "plot_cost_acc(cost3_0, cost3_0_t, acc3_0, acc3_0_t)"
      ]
    },
    {
      "cell_type": "code",
      "execution_count": null,
      "metadata": {},
      "outputs": [],
      "source": [
        "plot_cost_acc(cost3_1, cost3_1_t, acc3_1, acc3_1_t)"
      ]
    },
    {
      "cell_type": "code",
      "execution_count": null,
      "metadata": {},
      "outputs": [],
      "source": [
        "plot_cost_acc(cost3_2, cost3_2_t, acc3_2, acc3_2_t)"
      ]
    },
    {
      "cell_type": "code",
      "execution_count": null,
      "metadata": {},
      "outputs": [],
      "source": [
        "plot_cost_acc(cost4_0, cost4_0_t, acc4_0, acc4_0_t)"
      ]
    },
    {
      "cell_type": "code",
      "execution_count": null,
      "metadata": {},
      "outputs": [],
      "source": [
        "plot_cost_acc(cost5_0, cost5_0_t, acc5_0, acc5_0_t)"
      ]
    },
    {
      "cell_type": "code",
      "execution_count": null,
      "metadata": {},
      "outputs": [],
      "source": [
        "plot_cost_acc(cost5_1, cost5_1_t, acc5_1, acc5_1_t)"
      ]
    },
    {
      "cell_type": "code",
      "execution_count": null,
      "metadata": {},
      "outputs": [],
      "source": [
        "plot_cost_acc(cost6_0, cost6_0_t, acc6_0, acc6_0_t)"
      ]
    },
    {
      "cell_type": "code",
      "execution_count": 2,
      "metadata": {},
      "outputs": [
        {
          "ename": "NameError",
          "evalue": "name 'cost3_3' is not defined",
          "output_type": "error",
          "traceback": [
            "\u001b[1;31m---------------------------------------------------------------------------\u001b[0m",
            "\u001b[1;31mNameError\u001b[0m                                 Traceback (most recent call last)",
            "\u001b[1;32md:\\SareNeuronalKonboluzionalenFuntzionamenduaEtaInplementazioa\\code\\test\\MNIST_tests\\dltoolbox_tests.ipynb Cell 43'\u001b[0m in \u001b[0;36m<cell line: 1>\u001b[1;34m()\u001b[0m\n\u001b[1;32m----> <a href='vscode-notebook-cell:/d%3A/SareNeuronalKonboluzionalenFuntzionamenduaEtaInplementazioa/code/test/MNIST_tests/dltoolbox_tests.ipynb#ch0000042?line=0'>1</a>\u001b[0m plot_cost_acc(cost3_3, cost3_3_t, acc3_3, acc3_3_t)\n",
            "\u001b[1;31mNameError\u001b[0m: name 'cost3_3' is not defined"
          ]
        }
      ],
      "source": [
        "plot_cost_acc(cost3_3, cost3_3_t, acc3_3, acc3_3_t)"
      ]
    },
    {
      "cell_type": "code",
      "execution_count": null,
      "metadata": {},
      "outputs": [],
      "source": []
    }
  ],
  "metadata": {
    "accelerator": "GPU",
    "colab": {
      "collapsed_sections": [],
      "name": "dltoolbox_tests",
      "provenance": []
    },
    "kernelspec": {
      "display_name": "Python 3.10.0 64-bit",
      "language": "python",
      "name": "python3"
    },
    "language_info": {
      "codemirror_mode": {
        "name": "ipython",
        "version": 3
      },
      "file_extension": ".py",
      "mimetype": "text/x-python",
      "name": "python",
      "nbconvert_exporter": "python",
      "pygments_lexer": "ipython3",
      "version": "3.10.5"
    },
    "vscode": {
      "interpreter": {
        "hash": "26de051ba29f2982a8de78e945f0abaf191376122a1563185a90213a26c5da77"
      }
    }
  },
  "nbformat": 4,
  "nbformat_minor": 0
}
